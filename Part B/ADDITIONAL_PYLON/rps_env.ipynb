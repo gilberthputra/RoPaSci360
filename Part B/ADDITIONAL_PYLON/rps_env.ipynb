{
 "cells": [
  {
   "cell_type": "markdown",
   "id": "91abf98f",
   "metadata": {},
   "source": [
    "# Environment for RoPaSci360 board game"
   ]
  },
  {
   "cell_type": "code",
   "execution_count": 1,
   "id": "07bfed27",
   "metadata": {},
   "outputs": [],
   "source": [
    "from gym import Env\n",
    "from gym.spaces import Discrete, Box\n",
    "\n",
    "from state import *\n",
    "\n",
    "import tensorflow as tf\n",
    "import numpy as np\n",
    "import random"
   ]
  },
  {
   "cell_type": "code",
   "execution_count": 19,
   "id": "c6c80077",
   "metadata": {},
   "outputs": [],
   "source": [
    "class RoPaSci360(Env):\n",
    "    def __init__(self,\n",
    "                player = 'upper',\n",
    "                opponent = 'random',\n",
    "                log = 'True'):\n",
    "        \n",
    "        # Constants\n",
    "        self.max_turns = 360\n",
    "        self.log = log\n",
    "                \n",
    "        #\n",
    "        # Observation + Action spaces\n",
    "        # ---------------------------\n",
    "        #  Observations: RoPaSci board containing 61 hexes, with 9 types of maximum number of tokens for each player.\n",
    "        #  Actions: (Every board position) * (Every board position)\n",
    "        #\n",
    "        # Note: not every action is legal\n",
    "        #\n",
    "        self.action_space = Box(0, 60, shape=(2,), dtype=np.uint8)\n",
    "        self.observation_space = Box(-9, 9, (9, 9))\n",
    "        \n",
    "        self.player = player\n",
    "        self.opponent = opponent\n",
    "        \n",
    "        # reset and build state\n",
    "        self.reset()\n",
    "        \n",
    "    def reset(self):\n",
    "        self.game = GameState()\n",
    "        self.game.turn_number = 0\n",
    "        self.game.game_state = 'running'\n",
    "        self.game.upper_inv = 0\n",
    "        self.game.lower_inv = 0\n",
    "        \n",
    "        self.upper = list()\n",
    "        self.lower = list()\n",
    "        self.upper_throws = 9\n",
    "        self.upper_throws = 9\n",
    "        \n",
    "        self.done = False\n",
    "                \n",
    "        return self.game\n",
    "        \n",
    "    def step(self, action):\n",
    "        assert self.action_space.contains(action), \"ACTION ERROR {}\".format(action)\n",
    "        \n",
    "        if action not in self.game._actions(self.player):\n",
    "            reward = INVALID_ACTION_REWARD\n",
    "            return self.game, reward, self.done, self.info\n",
    "        \n",
    "        if self.done:\n",
    "            return (self.game, 0.0, True, self.info)\n",
    "        if self.move_count > MAX_TURNS:\n",
    "            return (self.game, 0.0, True, self.info)\n",
    "        \n",
    "        reward = INVALID_ACTION_REWARD\n",
    "\n",
    "\n",
    "\n",
    "    def render(self):\n",
    "        pass\n",
    "    \n",
    "\n",
    "    def player_move(self, action):\n",
    "        \"\"\"\n",
    "        Returns (state, reward, done)\n",
    "        \"\"\"\n",
    "    \n",
    "    def next_state(self, state, player, move):\n",
    "        if state is None:\n",
    "            state = self.state\n",
    "        "
   ]
  },
  {
   "cell_type": "code",
   "execution_count": 20,
   "id": "0ecb046e",
   "metadata": {},
   "outputs": [],
   "source": [
    "env = RoPaSci360()"
   ]
  },
  {
   "cell_type": "code",
   "execution_count": 21,
   "id": "d9f4e99e-d718-44a5-9c43-d013ee09d45d",
   "metadata": {},
   "outputs": [
    {
     "data": {
      "text/plain": [
       "Box(0, 60, (2,), uint8)"
      ]
     },
     "execution_count": 21,
     "metadata": {},
     "output_type": "execute_result"
    }
   ],
   "source": [
    "env.action_space"
   ]
  },
  {
   "cell_type": "code",
   "execution_count": 18,
   "id": "c61bce0e-55bc-46dd-8922-43c3e94f7fcd",
   "metadata": {},
   "outputs": [
    {
     "data": {
      "text/plain": [
       "array([[ 7.1599236 ,  0.2389597 , -4.5485487 ,  8.585953  ,  7.773817  ,\n",
       "        -5.979217  ,  8.150582  ,  1.9702885 , -2.907794  ],\n",
       "       [-8.821841  , -4.0194397 ,  7.2110953 ,  2.0318654 ,  8.205598  ,\n",
       "         0.27554655, -6.135358  , -5.9919424 , -8.182599  ],\n",
       "       [-7.392586  , -4.923396  ,  1.7226194 , -4.7498293 ,  7.717319  ,\n",
       "         2.0731888 , -8.515305  ,  6.2607    , -0.77352065],\n",
       "       [-1.0993428 ,  7.488901  , -1.7685986 ,  1.8785001 ,  3.1430855 ,\n",
       "         2.3066995 , -0.461651  ,  2.0162373 , -0.8056803 ],\n",
       "       [-4.9400606 ,  7.9105973 ,  4.744974  , -3.232233  , -8.940723  ,\n",
       "         2.9440832 ,  2.1417437 ,  2.6274514 ,  7.3903027 ],\n",
       "       [-6.821703  ,  6.0633893 ,  6.844443  , -4.721934  , -4.7047343 ,\n",
       "        -2.8085318 ,  3.5446517 ,  3.560094  , -2.2214005 ],\n",
       "       [ 5.776627  , -2.1017292 ,  3.8238335 ,  1.5583065 ,  1.921359  ,\n",
       "        -1.9930351 ,  7.953047  ,  8.380244  ,  2.4116373 ],\n",
       "       [ 2.657094  ,  8.39559   ,  7.0630627 ,  1.729713  ,  5.0698767 ,\n",
       "         0.8316338 ,  7.0431085 , -2.078171  ,  1.0495676 ],\n",
       "       [ 4.065815  ,  7.2600975 , -0.23228143,  6.371887  , -8.137996  ,\n",
       "         4.375773  , -0.7360981 ,  5.7050962 , -8.080843  ]],\n",
       "      dtype=float32)"
      ]
     },
     "execution_count": 18,
     "metadata": {},
     "output_type": "execute_result"
    }
   ],
   "source": [
    "env.observation_space.sample()"
   ]
  },
  {
   "cell_type": "code",
   "execution_count": null,
   "id": "bfe2a16b-0120-4220-ac47-1f037e0ccdfb",
   "metadata": {},
   "outputs": [],
   "source": []
  }
 ],
 "metadata": {
  "kernelspec": {
   "display_name": "Python 3",
   "language": "python",
   "name": "python3"
  },
  "language_info": {
   "codemirror_mode": {
    "name": "ipython",
    "version": 3
   },
   "file_extension": ".py",
   "mimetype": "text/x-python",
   "name": "python",
   "nbconvert_exporter": "python",
   "pygments_lexer": "ipython3",
   "version": "3.8.8"
  }
 },
 "nbformat": 4,
 "nbformat_minor": 5
}

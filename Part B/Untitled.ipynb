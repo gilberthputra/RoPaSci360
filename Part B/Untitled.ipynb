{
 "cells": [
  {
   "cell_type": "markdown",
   "id": "c1512010",
   "metadata": {},
   "source": [
    "# Environment for RoPaSci360 board game"
   ]
  },
  {
   "cell_type": "code",
   "execution_count": 1,
   "id": "cbe5be5e",
   "metadata": {},
   "outputs": [],
   "source": [
    "from gym import Env\n",
    "from gym.spaces import Discrete, Box\n",
    "\n",
    "import tensorflow as tf\n",
    "import numpy as np\n",
    "import random"
   ]
  },
  {
   "cell_type": "code",
   "execution_count": null,
   "id": "4f9cc134",
   "metadata": {},
   "outputs": [],
   "source": [
    "class state():\n",
    "    def __init__(self):"
   ]
  },
  {
   "cell_type": "code",
   "execution_count": 2,
   "id": "6425565d",
   "metadata": {},
   "outputs": [],
   "source": [
    "class RoPaSci360(Env):\n",
    "    def __init__(self):\n",
    "        self.n_players = 2\n",
    "        \n",
    "    def step(self):\n",
    "        pass\n",
    "    def render(self):\n",
    "        pass\n",
    "    def reset(self):\n",
    "        pass"
   ]
  },
  {
   "cell_type": "code",
   "execution_count": 3,
   "id": "e9eca29e",
   "metadata": {},
   "outputs": [
    {
     "data": {
      "text/plain": [
       "'2.1.0'"
      ]
     },
     "execution_count": 3,
     "metadata": {},
     "output_type": "execute_result"
    }
   ],
   "source": []
  },
  {
   "cell_type": "code",
   "execution_count": null,
   "id": "4dc4964e",
   "metadata": {},
   "outputs": [],
   "source": []
  }
 ],
 "metadata": {
  "kernelspec": {
   "display_name": "Python 3.7 (tensorflow)",
   "language": "python",
   "name": "tensorflow"
  },
  "language_info": {
   "codemirror_mode": {
    "name": "ipython",
    "version": 3
   },
   "file_extension": ".py",
   "mimetype": "text/x-python",
   "name": "python",
   "nbconvert_exporter": "python",
   "pygments_lexer": "ipython3",
   "version": "3.7.9"
  }
 },
 "nbformat": 4,
 "nbformat_minor": 5
}
